from pathlib import Path
import json

# Define the content of the notebook
notebook_content = {
    "cells": [
        {
            "cell_type": "markdown",
            "metadata": {},
            "source": [
                "# Actuarial Functions Based on Mortality Table\n",
                "This notebook provides functions to calculate:\n",
                "- $tq_x$: probability of dying between age $x$ and $x+t$\n",
                "- $tp_x$: probability of surviving from age $x$ to $x+t$\n",
                "- $n\\vert\\ddot{a}_x$: present value of an n-year annuity-due\n",
                "\n",
                "The calculations are based on a given mortality table and interest rate $i$."
            ]
        },
        {
            "cell_type": "code",
            "metadata": {},
            "execution_count": None,
            "outputs": [],
            "source": [
                "import pandas as pd\n",
                "\n",
                "# Load mortality table\n",
                "df = pd.read_csv(r'C:\\Users\\simia\\OneDrive\\桌面\\mortality_table.csv')\n",
                "df.head()"
            ]
        },
        {
            "cell_type": "code",
            "metadata": {},
            "execution_count": None,
            "outputs": [],
            "source": [
                "def tpx(t: int, x: int, df: pd.DataFrame) -> float:\n",
                "    \"\"\"Calculate tpx = lx+t / lx\"\"\"\n",
                "    try:\n",
                "        lx = df.loc[df['x'] == x, 'lx'].values[0]\n",
                "        lxt = df.loc[df['x'] == x + t, 'lx'].values[0]\n",
                "        return lxt / lx\n",
                "    except IndexError:\n",
                "        return 0.0\n"
            ]
        },
        {
            "cell_type": "code",
            "metadata": {},
            "execution_count": None,
            "outputs": [],
            "source": [
                "def tqx(t: int, x: int, df: pd.DataFrame) -> float:\n",
                "    \"\"\"Calculate tqx = 1 - tpx\"\"\"\n",
                "    return 1 - tpx(t, x, df)"
            ]
        },
        {
            "cell_type": "code",
            "metadata": {},
            "execution_count": None,
            "outputs": [],
            "source": [
                "def n_annuity_due(n: int, x: int, df: pd.DataFrame, i: float) -> float:\n",
                "    \"\"\"Calculate n|äx = sum_{k=0}^{n-1} (tpx) * (1+i)^-k\"\"\"\n",
                "    v = 1 / (1 + i)\n",
                "    annuity = 0.0\n",
                "    for k in range(n):\n",
                "        annuity += tpx(k, x, df) * (v ** k)\n",
                "    return annuity"
            ]
        }
    ],
    "metadata": {
        "kernelspec": {
            "display_name": "Python 3",
            "language": "python",
            "name": "python3"
        },
        "language_info": {
            "name": "python",
            "version": "3.8"
        }
    },
    "nbformat": 4,
    "nbformat_minor": 5
}

# Save the notebook
notebook_path = Path(r'C:\Users\simia\OneDrive\桌面\5_mortality_jupyter_notebook.ipynb')
with open(notebook_path, "w", encoding="utf-8") as f:
    json.dump(notebook_content, f)

notebook_path
