{
 "cells": [
  {
   "cell_type": "code",
   "execution_count": 15,
   "id": "2bdde211-7d85-46c0-8501-17a0923b35cf",
   "metadata": {},
   "outputs": [],
   "source": [
    "import pandas as pd\n",
    "from typing import Dict, Any\n",
    "\n",
    "# read data\n",
    "df_policies = pd.read_csv(r\"C:\\Users\\联想\\Desktop\\3_create_policy_file.csv\")\n",
    "df_mortality = pd.read_csv(r\"C:\\Users\\联想\\Downloads\\mortality_table.csv\")\n",
    "\n",
    "# Transform motality table into dict\n",
    "mortality_dict = dict(zip(df_mortality['x'], df_mortality['lx']))\n",
    "\n"
   ]
  },
  {
   "cell_type": "code",
   "execution_count": 19,
   "id": "ddb4c2ad-5db4-492b-a4cb-5bf3e5d80646",
   "metadata": {},
   "outputs": [],
   "source": [
    "def get_l_x_udd(x: float, mortality_dict: Dict[int, float]) -> float: # UDD Assumption\n",
    "    x_int = int(x)\n",
    "    l_x_int = mortality_dict.get(x_int, 0.0)\n",
    "    l_x_int_plus_1 = mortality_dict.get(x_int + 1, 0.0)\n",
    "    t = x - x_int\n",
    "    return l_x_int - t * (l_x_int - l_x_int_plus_1)"
   ]
  },
  {
   "cell_type": "code",
   "execution_count": 21,
   "id": "bd7a315d-0211-4a3f-857d-b1202f254cf1",
   "metadata": {},
   "outputs": [],
   "source": [
    "def get_t_p_x_udd(t: float, x: float, mortality_dict: Dict[int, float]) -> float:  # living rate\n",
    "    return get_l_x_udd(x + t, mortality_dict) / get_l_x_udd(x, mortality_dict)"
   ]
  },
  {
   "cell_type": "code",
   "execution_count": 37,
   "id": "95774c79-a512-450a-a52d-adff0650e2f5",
   "metadata": {},
   "outputs": [],
   "source": [
    "def simulate_liability_for_one_policy(policy_info: dict[str, Any], scenario_info: dict[str, Any], timestep: int) -> float:\n",
    "    x = policy_info[\"age\"] + timestep/12\n",
    "    l_x = get_l_x_udd(x=x, mortality_dict=scenario_info[\"mortality_table\"])\n",
    "    tp_x = get_t_p_x_udd(t=1/12, x=x, mortality_dict=scenario_info[\"mortality_table\"])\n",
    "    \n",
    "    # TODO 1: change frequency to monthly, divide premium values and annuity payments by 12.\n",
    "    monthly_premium = policy_info[\"premium\"] / 12\n",
    "    monthly_annuity = policy_info[\"annuity_payments\"] / 12\n",
    "    \n",
    "    # TODO 2:\n",
    "    # start_premium_pay_month=0, end_premium_pay_month=45*12,\n",
    "    # start_receive_payments=45*12, end_receive_payments=100*12\n",
    "    start_premium_pay_month = policy_info.get(\"start_premium_pay_month\", 0)\n",
    "    end_premium_pay_month = policy_info.get(\"end_premium_pay_month\", 45*12)\n",
    "    start_receive_payments = policy_info.get(\"start_receive_payments\", 45*12)\n",
    "    end_receive_payments = policy_info.get(\"end_receive_payments\", 100*12)\n",
    "    \n",
    "    # TODO 3: check where timestep is in relation to premium/receive periods\n",
    "    cashflow_amount_raw = 0\n",
    "    if start_premium_pay_month <= timestep < end_premium_pay_month:\n",
    "        cashflow_amount_raw = monthly_premium  # positive for paying premium\n",
    "    elif start_receive_payments <= timestep < end_receive_payments:\n",
    "        cashflow_amount_raw = -monthly_annuity  # negative for receiving annuity\n",
    "    \n",
    "    return cashflow_amount_raw * tp_x"
   ]
  },
  {
   "cell_type": "code",
   "execution_count": 29,
   "id": "2dd984bf-29c8-4337-a5a3-b88f6683c14d",
   "metadata": {},
   "outputs": [],
   "source": [
    "# Use the 0th policyholder to do a test\n",
    "policy_info=df_policies.iloc[0,1:].to_dict()"
   ]
  },
  {
   "cell_type": "code",
   "execution_count": 43,
   "id": "6b6bb60d-1b82-4b9e-8409-4f692721a0d2",
   "metadata": {},
   "outputs": [
    {
     "name": "stdout",
     "output_type": "stream",
     "text": [
      "On timestep 12, Liability cash flow is 17408.39835283355\n"
     ]
    }
   ],
   "source": [
    "scenario_info={\"mortality_table\":mortality_dict}\n",
    "\n",
    "timestep=12\n",
    "\n",
    "result= simulate_liability_for_one_policy(policy_info,scenario_info,timestep)\n",
    "\n",
    "print(f'On timestep {timestep}, Liability cash flow is {result}')"
   ]
  },
  {
   "cell_type": "code",
   "execution_count": null,
   "id": "2ddd55fa-44a0-4c65-869e-872d5a6aaddf",
   "metadata": {},
   "outputs": [],
   "source": []
  }
 ],
 "metadata": {
  "kernelspec": {
   "display_name": "Python 3 (ipykernel)",
   "language": "python",
   "name": "python3"
  },
  "language_info": {
   "codemirror_mode": {
    "name": "ipython",
    "version": 3
   },
   "file_extension": ".py",
   "mimetype": "text/x-python",
   "name": "python",
   "nbconvert_exporter": "python",
   "pygments_lexer": "ipython3",
   "version": "3.12.4"
  }
 },
 "nbformat": 4,
 "nbformat_minor": 5
}
