{
 "cells": [
  {
   "cell_type": "code",
   "id": "a788b06c9e5d966a",
   "metadata": {
    "ExecuteTime": {
     "end_time": "2025-07-02T04:44:56.338457Z",
     "start_time": "2025-07-02T04:44:56.334905Z"
    }
   },
   "source": [
    "import os\n",
    "import sys\n",
    "\n",
    "os.getcwd()\n",
    "sys.path.append(\"../src/mfi_alm/assets\")\n",
    "sys.path.append(\"../src/mfi_alm/liabilities\")\n",
    "\n",
    "from mfi_alm.assets.asset_portfolio_loader import AssetPortfolioLoader\n",
    "from mfi_alm.liabilities.liability_portfolio_loader import load_liability_portfolio\n"
   ],
   "outputs": [],
   "execution_count": 7
  },
  {
   "cell_type": "code",
   "id": "e474be0a52c5044b",
   "metadata": {
    "ExecuteTime": {
     "end_time": "2025-07-02T04:44:58.482908Z",
     "start_time": "2025-07-02T04:44:58.440352Z"
    }
   },
   "source": [
    "if __name__ == \"__main__\":\n",
    "    try:\n",
    "        portfolio = AssetPortfolioLoader.load_from_csv(\"asset_tape1.csv\")\n",
    "        print(f\"Successfully loaded portfolio with {len(portfolio.assets)} assets\")\n",
    "        print(f\"Portfolio market value: {portfolio.market_value():,.2f}\")\n",
    "    except Exception as e:\n",
    "        print(f\"Error loading portfolio: {str(e)}\")\n",
    "\n",
    "    try:\n",
    "        liability_portfolio = load_liability_portfolio(\n",
    "            filepath=\"policyholder_tape.csv\",\n",
    "            interest=0.03\n",
    "        )\n",
    "        print(f\"Loaded {len(liability_portfolio.policyholders)} policyholders\")\n",
    "        print(f\"Liability portfolio total APV: {liability_portfolio.insurance_apv():,.2f}\")\n",
    "    except Exception as e:\n",
    "        print(f\"Error loading liability portfolio: {str(e)}\")"
   ],
   "outputs": [
    {
     "name": "stdout",
     "output_type": "stream",
     "text": [
      "Successfully loaded portfolio with 3 assets\n",
      "Portfolio market value: 8,341.71\n",
      "Loaded 3 policyholders\n",
      "Liability portfolio total APV: 2,187.53\n"
     ]
    }
   ],
   "execution_count": 8
  }
 ],
 "metadata": {
  "kernelspec": {
   "display_name": "Python 3 (ipykernel)",
   "language": "python",
   "name": "python3"
  },
  "language_info": {
   "codemirror_mode": {
    "name": "ipython",
    "version": 3
   },
   "file_extension": ".py",
   "mimetype": "text/x-python",
   "name": "python",
   "nbconvert_exporter": "python",
   "pygments_lexer": "ipython3",
   "version": "3.13.4"
  }
 },
 "nbformat": 4,
 "nbformat_minor": 5
}
